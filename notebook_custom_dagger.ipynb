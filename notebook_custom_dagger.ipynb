{
 "cells": [
  {
   "cell_type": "code",
   "execution_count": 1,
   "id": "615eaa5f-1e38-4364-8b9b-9996568e14f4",
   "metadata": {},
   "outputs": [
    {
     "name": "stderr",
     "output_type": "stream",
     "text": [
      "C:\\Users\\xavier\\anaconda3\\envs\\RL\\lib\\site-packages\\stable_baselines3\\common\\save_util.py:167: UserWarning: Could not deserialize object lr_schedule. Consider using `custom_objects` argument to replace this object.\n",
      "Exception: 'bytes' object cannot be interpreted as an integer\n",
      "  warnings.warn(\n",
      "C:\\Users\\xavier\\anaconda3\\envs\\RL\\lib\\site-packages\\stable_baselines3\\common\\vec_env\\patch_gym.py:95: UserWarning: You loaded a model that was trained using OpenAI Gym. We strongly recommend transitioning to Gymnasium by saving that model again.\n",
      "  warnings.warn(\n"
     ]
    }
   ],
   "source": [
    "import numpy as np\n",
    "from imitation.policies.serialize import load_policy\n",
    "from imitation.util.util import make_vec_env\n",
    "\n",
    "env = make_vec_env(\n",
    "    \"HalfCheetah-v4\",\n",
    "    rng=np.random.default_rng(),\n",
    "    n_envs=4,\n",
    "    env_make_kwargs={\"render_mode\": \"rgb_array\"},\n",
    ")\n",
    "\n",
    "\n",
    "expert = load_policy(\n",
    "    \"sac-huggingface\",\n",
    "    organization=\"sb3\",\n",
    "    env_name=\"HalfCheetah-v3\",\n",
    "    venv=env,\n",
    ")"
   ]
  },
  {
   "cell_type": "code",
   "execution_count": 1,
   "id": "031a3f91-1f45-40a5-8353-e588674c8011",
   "metadata": {},
   "outputs": [
    {
     "ename": "IndentationError",
     "evalue": "unexpected indent (bc.py, line 335)",
     "output_type": "error",
     "traceback": [
      "Traceback \u001b[1;36m(most recent call last)\u001b[0m:\n",
      "\u001b[0m  File \u001b[0;32m~\\anaconda3\\envs\\RL\\lib\\site-packages\\IPython\\core\\interactiveshell.py:3577\u001b[0m in \u001b[0;35mrun_code\u001b[0m\n    exec(code_obj, self.user_global_ns, self.user_ns)\u001b[0m\n",
      "\u001b[0m  Cell \u001b[0;32mIn[1], line 1\u001b[0m\n    from src.models.dagger import TrajectoryAccumulator\u001b[0m\n",
      "\u001b[0m  File \u001b[0;32m~\\Documents\\2-Code\\0-Thesis\\PlaygroundRL\\src\\models\\dagger\\__init__.py:5\u001b[0m\n    from .dagger import SimpleDAggerTrainer\u001b[0m\n",
      "\u001b[1;36m  File \u001b[1;32m~\\Documents\\2-Code\\0-Thesis\\PlaygroundRL\\src\\models\\dagger\\dagger.py:22\u001b[1;36m\n\u001b[1;33m    from .bc import BC\u001b[1;36m\n",
      "\u001b[1;36m  File \u001b[1;32m~\\Documents\\2-Code\\0-Thesis\\PlaygroundRL\\src\\models\\dagger\\bc.py:335\u001b[1;36m\u001b[0m\n\u001b[1;33m    if tqdm_progress_bar is not None:\u001b[0m\n\u001b[1;37m    ^\u001b[0m\n\u001b[1;31mIndentationError\u001b[0m\u001b[1;31m:\u001b[0m unexpected indent\n"
     ]
    }
   ],
   "source": [
    "from src.models.dagger import TrajectoryAccumulator\n",
    "from src.models.dagger import generate_trajectories"
   ]
  },
  {
   "cell_type": "code",
   "execution_count": null,
   "id": "44a4da6f-4479-4be9-9035-d4a342c5acb2",
   "metadata": {},
   "outputs": [],
   "source": [
    "obs = env.reset()\n",
    "print(obs.shape)\n",
    "print(env.num_envs,env.observation_space.shape[0] ,env.action_space.shape[0])"
   ]
  },
  {
   "cell_type": "code",
   "execution_count": null,
   "id": "f5729361-c500-41f4-8b88-0a5352cfd7f6",
   "metadata": {},
   "outputs": [],
   "source": [
    "traj = generate_trajectories(expert, env)"
   ]
  },
  {
   "cell_type": "code",
   "execution_count": 13,
   "id": "c4cb044e-af55-41f5-afde-3b31619550d8",
   "metadata": {},
   "outputs": [
    {
     "name": "stdout",
     "output_type": "stream",
     "text": [
      "1001\n",
      "1001\n",
      "1001\n",
      "1001\n"
     ]
    }
   ],
   "source": [
    "print(len(traj[0]))\n",
    "print(len(traj[1]))\n",
    "print(len(traj[2]))\n",
    "print(len(traj[3]))"
   ]
  }
 ],
 "metadata": {
  "kernelspec": {
   "display_name": "Python 3 (ipykernel)",
   "language": "python",
   "name": "python3"
  },
  "language_info": {
   "codemirror_mode": {
    "name": "ipython",
    "version": 3
   },
   "file_extension": ".py",
   "mimetype": "text/x-python",
   "name": "python",
   "nbconvert_exporter": "python",
   "pygments_lexer": "ipython3",
   "version": "3.10.14"
  }
 },
 "nbformat": 4,
 "nbformat_minor": 5
}
