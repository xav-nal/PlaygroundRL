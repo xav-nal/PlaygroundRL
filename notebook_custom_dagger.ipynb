{
 "cells": [
  {
   "cell_type": "code",
   "execution_count": 1,
   "id": "615eaa5f-1e38-4364-8b9b-9996568e14f4",
   "metadata": {},
   "outputs": [
    {
     "name": "stderr",
     "output_type": "stream",
     "text": [
      "C:\\Users\\xavier\\anaconda3\\envs\\RL\\lib\\site-packages\\stable_baselines3\\common\\save_util.py:167: UserWarning: Could not deserialize object lr_schedule. Consider using `custom_objects` argument to replace this object.\n",
      "Exception: 'bytes' object cannot be interpreted as an integer\n",
      "  warnings.warn(\n",
      "C:\\Users\\xavier\\anaconda3\\envs\\RL\\lib\\site-packages\\stable_baselines3\\common\\vec_env\\patch_gym.py:95: UserWarning: You loaded a model that was trained using OpenAI Gym. We strongly recommend transitioning to Gymnasium by saving that model again.\n",
      "  warnings.warn(\n"
     ]
    },
    {
     "name": "stdout",
     "output_type": "stream",
     "text": [
      "num_env 4\n",
      "num observation 17\n",
      "num action 6\n"
     ]
    }
   ],
   "source": [
    "import numpy as np\n",
    "from imitation.policies.serialize import load_policy\n",
    "from imitation.util.util import make_vec_env\n",
    "\n",
    "env = make_vec_env(\n",
    "    \"HalfCheetah-v4\",\n",
    "    rng=np.random.default_rng(),\n",
    "    n_envs=4,\n",
    "    env_make_kwargs={\"render_mode\": \"rgb_array\"},\n",
    ")\n",
    "\n",
    "\n",
    "expert = load_policy(\n",
    "    \"sac-huggingface\",\n",
    "    organization=\"sb3\",\n",
    "    env_name=\"HalfCheetah-v3\",\n",
    "    venv=env,\n",
    ")\n",
    "\n",
    "obs = env.reset()\n",
    "print(\"num_env\", env.num_envs)\n",
    "print(\"num observation\", env.observation_space.shape[0])\n",
    "print(\"num action\", env.action_space.shape[0])"
   ]
  },
  {
   "cell_type": "code",
   "execution_count": 2,
   "id": "031a3f91-1f45-40a5-8353-e588674c8011",
   "metadata": {},
   "outputs": [],
   "source": [
    "from src.models.dagger import TrajectoryAccumulator\n",
    "from src.models.dagger import generate_trajectories"
   ]
  },
  {
   "cell_type": "code",
   "execution_count": 3,
   "id": "fc0265b4-b82c-4eb4-9cd0-d86cdec9a891",
   "metadata": {},
   "outputs": [],
   "source": [
    "from src.models.dagger import ReplayBuffer\n",
    "from src.models.dagger import BC\n",
    "from src.models.dagger import SimpleDAggerTrainer"
   ]
  },
  {
   "cell_type": "code",
   "execution_count": 4,
   "id": "eff8b710-1dfb-41e4-bb2e-a146e0242096",
   "metadata": {},
   "outputs": [],
   "source": [
    "from torch.utils.data import Dataset, DataLoader\n",
    "from tqdm import tqdm"
   ]
  },
  {
   "cell_type": "code",
   "execution_count": 5,
   "id": "5e2905d3-af99-4da4-966b-7a86360b319f",
   "metadata": {},
   "outputs": [
    {
     "name": "stdout",
     "output_type": "stream",
     "text": [
      "observation_space Box(-inf, inf, (17,), float64)\n"
     ]
    }
   ],
   "source": [
    "bc_trainer = BC(\n",
    "    observation_space=env.observation_space, \n",
    "    action_space=env.action_space, \n",
    "    rng=np.random.default_rng())"
   ]
  },
  {
   "cell_type": "code",
   "execution_count": 6,
   "id": "ede09ab5-873c-4d2a-94f1-405c40a99ef3",
   "metadata": {},
   "outputs": [],
   "source": [
    "dagger_trainer = SimpleDAggerTrainer(\n",
    "    venv=env,\n",
    "    expert_policy=expert,\n",
    "    bc_trainer=bc_trainer,\n",
    "    rng=np.random.default_rng(),\n",
    ")"
   ]
  },
  {
   "cell_type": "code",
   "execution_count": null,
   "id": "a3286011-a6ab-4053-a477-679a3fb66b25",
   "metadata": {},
   "outputs": [
    {
     "name": "stdout",
     "output_type": "stream",
     "text": [
      "round:  0\n",
      "partial_trajectories {0: [], 1: [], 2: [], 3: []}\n",
      "Start generate Traj\n",
      "finish_trajectory\n",
      "finish_trajectory\n",
      "finish_trajectory\n",
      "finish_trajectory\n",
      "active env sum  0\n",
      "active env [False False False False]\n",
      "END\n"
     ]
    },
    {
     "name": "stderr",
     "output_type": "stream",
     "text": [
      "Training :   0%|                                                                               | 0/125 [00:00<?, ?it/s]"
     ]
    }
   ],
   "source": [
    "dagger_trainer.train(1)"
   ]
  },
  {
   "cell_type": "code",
   "execution_count": null,
   "id": "569350c3-f8a2-42e1-bd9c-a59d859565de",
   "metadata": {},
   "outputs": [],
   "source": []
  },
  {
   "cell_type": "code",
   "execution_count": null,
   "id": "0ba62334-ccf9-41d6-b4e2-65a92d433111",
   "metadata": {},
   "outputs": [],
   "source": []
  }
 ],
 "metadata": {
  "kernelspec": {
   "display_name": "Python 3 (ipykernel)",
   "language": "python",
   "name": "python3"
  },
  "language_info": {
   "codemirror_mode": {
    "name": "ipython",
    "version": 3
   },
   "file_extension": ".py",
   "mimetype": "text/x-python",
   "name": "python",
   "nbconvert_exporter": "python",
   "pygments_lexer": "ipython3",
   "version": "3.10.14"
  }
 },
 "nbformat": 4,
 "nbformat_minor": 5
}
