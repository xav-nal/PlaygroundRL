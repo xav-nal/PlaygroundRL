{
 "cells": [
  {
   "cell_type": "code",
   "execution_count": 1,
   "id": "615eaa5f-1e38-4364-8b9b-9996568e14f4",
   "metadata": {},
   "outputs": [
    {
     "name": "stderr",
     "output_type": "stream",
     "text": [
      "C:\\Users\\xavier\\anaconda3\\envs\\RL\\lib\\site-packages\\stable_baselines3\\common\\save_util.py:167: UserWarning: Could not deserialize object lr_schedule. Consider using `custom_objects` argument to replace this object.\n",
      "Exception: 'bytes' object cannot be interpreted as an integer\n",
      "  warnings.warn(\n",
      "C:\\Users\\xavier\\anaconda3\\envs\\RL\\lib\\site-packages\\stable_baselines3\\common\\vec_env\\patch_gym.py:95: UserWarning: You loaded a model that was trained using OpenAI Gym. We strongly recommend transitioning to Gymnasium by saving that model again.\n",
      "  warnings.warn(\n"
     ]
    }
   ],
   "source": [
    "import numpy as np\n",
    "from imitation.policies.serialize import load_policy\n",
    "from imitation.util.util import make_vec_env\n",
    "\n",
    "env = make_vec_env(\n",
    "    \"HalfCheetah-v4\",\n",
    "    rng=np.random.default_rng(),\n",
    "    n_envs=4,\n",
    "    env_make_kwargs={\"render_mode\": \"rgb_array\"},\n",
    ")\n",
    "\n",
    "\n",
    "expert = load_policy(\n",
    "    \"sac-huggingface\",\n",
    "    organization=\"sb3\",\n",
    "    env_name=\"HalfCheetah-v3\",\n",
    "    venv=env,\n",
    ")"
   ]
  },
  {
   "cell_type": "code",
   "execution_count": 2,
   "id": "031a3f91-1f45-40a5-8353-e588674c8011",
   "metadata": {},
   "outputs": [],
   "source": [
    "from src.models.dagger import TrajectoryAccumulator\n",
    "from src.models.dagger import generate_trajectories"
   ]
  },
  {
   "cell_type": "code",
   "execution_count": 3,
   "id": "44a4da6f-4479-4be9-9035-d4a342c5acb2",
   "metadata": {},
   "outputs": [
    {
     "name": "stdout",
     "output_type": "stream",
     "text": [
      "(4, 17)\n",
      "4 17 6\n"
     ]
    }
   ],
   "source": [
    "obs = env.reset()\n",
    "print(obs.shape)\n",
    "print(env.num_envs,env.observation_space.shape[0] ,env.action_space.shape[0])"
   ]
  },
  {
   "cell_type": "code",
   "execution_count": 4,
   "id": "5df28fb8-10a3-49e0-be7a-ca8ebaa1a716",
   "metadata": {},
   "outputs": [
    {
     "name": "stdout",
     "output_type": "stream",
     "text": [
      "partial_trajectories {0: [], 1: [], 2: [], 3: []}\n"
     ]
    }
   ],
   "source": [
    "trajectories_accum = TrajectoryAccumulator(env.num_envs,env.observation_space.shape[0] ,env.action_space.shape[0])"
   ]
  },
  {
   "cell_type": "code",
   "execution_count": 5,
   "id": "608f6126-b579-4afe-b07f-c2f10a333cb3",
   "metadata": {},
   "outputs": [],
   "source": [
    "init_acts = np.zeros((env.num_envs, env.action_space.shape[0]))\n",
    "init_rews = np.zeros(env.num_envs)\n",
    "init_dones = np.zeros(env.num_envs, dtype=bool)\n",
    "\n",
    "for env_idx, (act, rew, next_ob, done) in enumerate(zip(init_acts, init_rews, obs, init_dones)):\n",
    "    step_dict = dict(acts=act, rews=rew, next_obs=next_ob, dones=done)\n",
    "    trajectories_accum.add_step(env_idx, step_dict)"
   ]
  },
  {
   "cell_type": "code",
   "execution_count": 6,
   "id": "19a15c45-cef6-4c6c-ab4e-3661581222b7",
   "metadata": {},
   "outputs": [
    {
     "name": "stdout",
     "output_type": "stream",
     "text": [
      "action (4, 6)\n"
     ]
    }
   ],
   "source": [
    "acts, _ = expert.predict(obs)\n",
    "print(\"action\", acts.shape)"
   ]
  },
  {
   "cell_type": "code",
   "execution_count": 7,
   "id": "2b3d91e1-6f10-4b31-bd20-d49932de408b",
   "metadata": {},
   "outputs": [
    {
     "name": "stdout",
     "output_type": "stream",
     "text": [
      "(4, 17)\n",
      "(4,)\n",
      "(4,)\n",
      "4\n"
     ]
    }
   ],
   "source": [
    "next_obs, rews, dones, infos = env.step(acts)\n",
    "print(next_obs.shape)\n",
    "print(rews.shape)\n",
    "print(dones.shape)\n",
    "print(len(infos))"
   ]
  },
  {
   "cell_type": "code",
   "execution_count": 8,
   "id": "401a4044-b2fd-407e-bd28-7c13576595b9",
   "metadata": {},
   "outputs": [],
   "source": [
    "t = trajectories_accum.get_partial_trajectories()"
   ]
  },
  {
   "cell_type": "code",
   "execution_count": 9,
   "id": "76618b0c-c5aa-4114-8b43-1692fcdae89f",
   "metadata": {},
   "outputs": [],
   "source": [
    "traj = trajectories_accum.add_step_and_auto_finish(acts,rews,next_obs,np.ones(env.num_envs, dtype=bool))"
   ]
  },
  {
   "cell_type": "code",
   "execution_count": 10,
   "id": "f2b96805-2d53-4116-a9f1-029fd6792df8",
   "metadata": {},
   "outputs": [
    {
     "data": {
      "text/plain": [
       "[{'acts': array([0., 0., 0., 0., 0., 0.]),\n",
       "  'rews': 0.0,\n",
       "  'next_obs': array([-0.04604266, -0.0918053 , -0.09669447,  0.06265405,  0.08255112,\n",
       "          0.02132716,  0.04589931,  0.008725  , -0.12654215, -0.06232745,\n",
       "          0.0041326 , -0.23250308, -0.02187917, -0.12459109, -0.07322674,\n",
       "         -0.0544259 , -0.03163002]),\n",
       "  'dones': False},\n",
       " {'acts': array([-0.88531256,  0.83578444, -0.82933587, -0.4214357 , -0.6741191 ,\n",
       "         -0.26134658], dtype=float32),\n",
       "  'rews': -0.91246,\n",
       "  'next_obs': array([-0.08519518, -0.09489906, -0.35278949,  0.36813254, -0.29212861,\n",
       "         -0.09529661, -0.15064564, -0.02839609, -0.77367833, -1.09972993,\n",
       "          0.08039848, -6.32742959,  6.39726559, -8.97898448, -3.71776041,\n",
       "         -5.26592797, -1.2587513 ]),\n",
       "  'dones': True}]"
      ]
     },
     "execution_count": 10,
     "metadata": {},
     "output_type": "execute_result"
    }
   ],
   "source": [
    "traj"
   ]
  },
  {
   "cell_type": "code",
   "execution_count": 11,
   "id": "e2b02cfa-82eb-4d1e-b971-7718258a6190",
   "metadata": {},
   "outputs": [
    {
     "name": "stdout",
     "output_type": "stream",
     "text": [
      "partial_trajectories {0: [{'acts': array([0., 0., 0., 0., 0., 0.]), 'rews': 0.0, 'next_obs': array([-0.04604266, -0.0918053 , -0.09669447,  0.06265405,  0.08255112,\n",
      "        0.02132716,  0.04589931,  0.008725  , -0.12654215, -0.06232745,\n",
      "        0.0041326 , -0.23250308, -0.02187917, -0.12459109, -0.07322674,\n",
      "       -0.0544259 , -0.03163002]), 'dones': False}, {'acts': array([-0.88531256,  0.83578444, -0.82933587, -0.4214357 , -0.6741191 ,\n",
      "       -0.26134658], dtype=float32), 'rews': -0.91246, 'next_obs': array([-0.08519518, -0.09489906, -0.35278949,  0.36813254, -0.29212861,\n",
      "       -0.09529661, -0.15064564, -0.02839609, -0.77367833, -1.09972993,\n",
      "        0.08039848, -6.32742959,  6.39726559, -8.97898448, -3.71776041,\n",
      "       -5.26592797, -1.2587513 ]), 'dones': False}], 1: [{'acts': array([0., 0., 0., 0., 0., 0.]), 'rews': 0.0, 'next_obs': array([ 0.09009274, -0.07116808,  0.08972989, -0.03763371, -0.01533471,\n",
      "        0.06554052, -0.01816017,  0.00991874,  0.02941325,  0.00284222,\n",
      "        0.0546713 , -0.07364541, -0.01629099, -0.04821193,  0.05988462,\n",
      "        0.00397221, -0.02924568]), 'dones': False}], 2: [{'acts': array([0., 0., 0., 0., 0., 0.]), 'rews': 0.0, 'next_obs': array([-0.04030177,  0.06284515, -0.08161681,  0.02002011,  0.04571211,\n",
      "       -0.06241979, -0.08897067, -0.04500613, -0.05538228,  0.09775675,\n",
      "       -0.03105565, -0.03288239, -0.07921468,  0.04549581, -0.00991981,\n",
      "        0.05452887, -0.06071857]), 'dones': False}], 3: [{'acts': array([0., 0., 0., 0., 0., 0.]), 'rews': 0.0, 'next_obs': array([-0.0526379 ,  0.06025489,  0.01643241, -0.08117427, -0.01337461,\n",
      "       -0.00418974, -0.06805222,  0.04691543,  0.33229995,  0.02257866,\n",
      "       -0.03526308, -0.02812874, -0.06680463, -0.10551506, -0.0390801 ,\n",
      "        0.04819454, -0.02385536]), 'dones': False}]}\n",
      "partial_trajectories {0: [{'acts': array([0., 0., 0., 0., 0., 0.]), 'rews': 0.0, 'next_obs': array([-0.04604266, -0.0918053 , -0.09669447,  0.06265405,  0.08255112,\n",
      "        0.02132716,  0.04589931,  0.008725  , -0.12654215, -0.06232745,\n",
      "        0.0041326 , -0.23250308, -0.02187917, -0.12459109, -0.07322674,\n",
      "       -0.0544259 , -0.03163002]), 'dones': False}, {'acts': array([-0.88531256,  0.83578444, -0.82933587, -0.4214357 , -0.6741191 ,\n",
      "       -0.26134658], dtype=float32), 'rews': -0.91246, 'next_obs': array([-0.08519518, -0.09489906, -0.35278949,  0.36813254, -0.29212861,\n",
      "       -0.09529661, -0.15064564, -0.02839609, -0.77367833, -1.09972993,\n",
      "        0.08039848, -6.32742959,  6.39726559, -8.97898448, -3.71776041,\n",
      "       -5.26592797, -1.2587513 ]), 'dones': False}], 1: [{'acts': array([0., 0., 0., 0., 0., 0.]), 'rews': 0.0, 'next_obs': array([ 0.09009274, -0.07116808,  0.08972989, -0.03763371, -0.01533471,\n",
      "        0.06554052, -0.01816017,  0.00991874,  0.02941325,  0.00284222,\n",
      "        0.0546713 , -0.07364541, -0.01629099, -0.04821193,  0.05988462,\n",
      "        0.00397221, -0.02924568]), 'dones': False}, {'acts': array([-0.50775   , -0.15123397,  0.44664288,  0.28629327, -0.5076038 ,\n",
      "       -0.5759334 ], dtype=float32), 'rews': -0.31389764, 'next_obs': array([ 6.93527887e-02, -4.43597354e-02, -1.10035092e-01, -1.52408973e-02,\n",
      "        1.98568702e-01,  1.42479609e-01, -2.04018294e-01, -1.54151717e-01,\n",
      "       -2.76881694e-01, -6.50460736e-01,  7.10723125e-01, -5.13782764e+00,\n",
      "        2.32247505e-03,  4.84523020e+00,  1.89499239e+00, -4.47948163e+00,\n",
      "       -4.61013633e+00]), 'dones': False}], 2: [{'acts': array([0., 0., 0., 0., 0., 0.]), 'rews': 0.0, 'next_obs': array([-0.04030177,  0.06284515, -0.08161681,  0.02002011,  0.04571211,\n",
      "       -0.06241979, -0.08897067, -0.04500613, -0.05538228,  0.09775675,\n",
      "       -0.03105565, -0.03288239, -0.07921468,  0.04549581, -0.00991981,\n",
      "        0.05452887, -0.06071857]), 'dones': False}], 3: [{'acts': array([0., 0., 0., 0., 0., 0.]), 'rews': 0.0, 'next_obs': array([-0.0526379 ,  0.06025489,  0.01643241, -0.08117427, -0.01337461,\n",
      "       -0.00418974, -0.06805222,  0.04691543,  0.33229995,  0.02257866,\n",
      "       -0.03526308, -0.02812874, -0.06680463, -0.10551506, -0.0390801 ,\n",
      "        0.04819454, -0.02385536]), 'dones': False}]}\n",
      "partial_trajectories {0: [{'acts': array([0., 0., 0., 0., 0., 0.]), 'rews': 0.0, 'next_obs': array([-0.04604266, -0.0918053 , -0.09669447,  0.06265405,  0.08255112,\n",
      "        0.02132716,  0.04589931,  0.008725  , -0.12654215, -0.06232745,\n",
      "        0.0041326 , -0.23250308, -0.02187917, -0.12459109, -0.07322674,\n",
      "       -0.0544259 , -0.03163002]), 'dones': False}, {'acts': array([-0.88531256,  0.83578444, -0.82933587, -0.4214357 , -0.6741191 ,\n",
      "       -0.26134658], dtype=float32), 'rews': -0.91246, 'next_obs': array([-0.08519518, -0.09489906, -0.35278949,  0.36813254, -0.29212861,\n",
      "       -0.09529661, -0.15064564, -0.02839609, -0.77367833, -1.09972993,\n",
      "        0.08039848, -6.32742959,  6.39726559, -8.97898448, -3.71776041,\n",
      "       -5.26592797, -1.2587513 ]), 'dones': False}], 1: [{'acts': array([0., 0., 0., 0., 0., 0.]), 'rews': 0.0, 'next_obs': array([ 0.09009274, -0.07116808,  0.08972989, -0.03763371, -0.01533471,\n",
      "        0.06554052, -0.01816017,  0.00991874,  0.02941325,  0.00284222,\n",
      "        0.0546713 , -0.07364541, -0.01629099, -0.04821193,  0.05988462,\n",
      "        0.00397221, -0.02924568]), 'dones': False}, {'acts': array([-0.50775   , -0.15123397,  0.44664288,  0.28629327, -0.5076038 ,\n",
      "       -0.5759334 ], dtype=float32), 'rews': -0.31389764, 'next_obs': array([ 6.93527887e-02, -4.43597354e-02, -1.10035092e-01, -1.52408973e-02,\n",
      "        1.98568702e-01,  1.42479609e-01, -2.04018294e-01, -1.54151717e-01,\n",
      "       -2.76881694e-01, -6.50460736e-01,  7.10723125e-01, -5.13782764e+00,\n",
      "        2.32247505e-03,  4.84523020e+00,  1.89499239e+00, -4.47948163e+00,\n",
      "       -4.61013633e+00]), 'dones': False}], 2: [{'acts': array([0., 0., 0., 0., 0., 0.]), 'rews': 0.0, 'next_obs': array([-0.04030177,  0.06284515, -0.08161681,  0.02002011,  0.04571211,\n",
      "       -0.06241979, -0.08897067, -0.04500613, -0.05538228,  0.09775675,\n",
      "       -0.03105565, -0.03288239, -0.07921468,  0.04549581, -0.00991981,\n",
      "        0.05452887, -0.06071857]), 'dones': False}, {'acts': array([-0.89989   , -0.35348427, -0.5764852 , -0.48351622, -0.81179583,\n",
      "       -0.76245475], dtype=float32), 'rews': -0.8633604, 'next_obs': array([-0.05156526,  0.10767101, -0.26665705, -0.07622083, -0.17594743,\n",
      "       -0.19690153, -0.2614413 , -0.20416682, -0.8085726 , -0.47427686,\n",
      "        1.2400281 , -5.16592388, -2.91883094, -5.52133057, -4.01107378,\n",
      "       -4.6933684 , -4.57635966]), 'dones': False}], 3: [{'acts': array([0., 0., 0., 0., 0., 0.]), 'rews': 0.0, 'next_obs': array([-0.0526379 ,  0.06025489,  0.01643241, -0.08117427, -0.01337461,\n",
      "       -0.00418974, -0.06805222,  0.04691543,  0.33229995,  0.02257866,\n",
      "       -0.03526308, -0.02812874, -0.06680463, -0.10551506, -0.0390801 ,\n",
      "        0.04819454, -0.02385536]), 'dones': False}]}\n",
      "partial_trajectories {0: [{'acts': array([0., 0., 0., 0., 0., 0.]), 'rews': 0.0, 'next_obs': array([-0.04604266, -0.0918053 , -0.09669447,  0.06265405,  0.08255112,\n",
      "        0.02132716,  0.04589931,  0.008725  , -0.12654215, -0.06232745,\n",
      "        0.0041326 , -0.23250308, -0.02187917, -0.12459109, -0.07322674,\n",
      "       -0.0544259 , -0.03163002]), 'dones': False}, {'acts': array([-0.88531256,  0.83578444, -0.82933587, -0.4214357 , -0.6741191 ,\n",
      "       -0.26134658], dtype=float32), 'rews': -0.91246, 'next_obs': array([-0.08519518, -0.09489906, -0.35278949,  0.36813254, -0.29212861,\n",
      "       -0.09529661, -0.15064564, -0.02839609, -0.77367833, -1.09972993,\n",
      "        0.08039848, -6.32742959,  6.39726559, -8.97898448, -3.71776041,\n",
      "       -5.26592797, -1.2587513 ]), 'dones': False}], 1: [{'acts': array([0., 0., 0., 0., 0., 0.]), 'rews': 0.0, 'next_obs': array([ 0.09009274, -0.07116808,  0.08972989, -0.03763371, -0.01533471,\n",
      "        0.06554052, -0.01816017,  0.00991874,  0.02941325,  0.00284222,\n",
      "        0.0546713 , -0.07364541, -0.01629099, -0.04821193,  0.05988462,\n",
      "        0.00397221, -0.02924568]), 'dones': False}, {'acts': array([-0.50775   , -0.15123397,  0.44664288,  0.28629327, -0.5076038 ,\n",
      "       -0.5759334 ], dtype=float32), 'rews': -0.31389764, 'next_obs': array([ 6.93527887e-02, -4.43597354e-02, -1.10035092e-01, -1.52408973e-02,\n",
      "        1.98568702e-01,  1.42479609e-01, -2.04018294e-01, -1.54151717e-01,\n",
      "       -2.76881694e-01, -6.50460736e-01,  7.10723125e-01, -5.13782764e+00,\n",
      "        2.32247505e-03,  4.84523020e+00,  1.89499239e+00, -4.47948163e+00,\n",
      "       -4.61013633e+00]), 'dones': False}], 2: [{'acts': array([0., 0., 0., 0., 0., 0.]), 'rews': 0.0, 'next_obs': array([-0.04030177,  0.06284515, -0.08161681,  0.02002011,  0.04571211,\n",
      "       -0.06241979, -0.08897067, -0.04500613, -0.05538228,  0.09775675,\n",
      "       -0.03105565, -0.03288239, -0.07921468,  0.04549581, -0.00991981,\n",
      "        0.05452887, -0.06071857]), 'dones': False}, {'acts': array([-0.89989   , -0.35348427, -0.5764852 , -0.48351622, -0.81179583,\n",
      "       -0.76245475], dtype=float32), 'rews': -0.8633604, 'next_obs': array([-0.05156526,  0.10767101, -0.26665705, -0.07622083, -0.17594743,\n",
      "       -0.19690153, -0.2614413 , -0.20416682, -0.8085726 , -0.47427686,\n",
      "        1.2400281 , -5.16592388, -2.91883094, -5.52133057, -4.01107378,\n",
      "       -4.6933684 , -4.57635966]), 'dones': False}], 3: [{'acts': array([0., 0., 0., 0., 0., 0.]), 'rews': 0.0, 'next_obs': array([-0.0526379 ,  0.06025489,  0.01643241, -0.08117427, -0.01337461,\n",
      "       -0.00418974, -0.06805222,  0.04691543,  0.33229995,  0.02257866,\n",
      "       -0.03526308, -0.02812874, -0.06680463, -0.10551506, -0.0390801 ,\n",
      "        0.04819454, -0.02385536]), 'dones': False}, {'acts': array([-0.95078963, -0.32111597, -0.6412126 , -0.57738084, -0.95723563,\n",
      "       -0.9650761 ], dtype=float32), 'rews': -0.76618433, 'next_obs': array([-0.07146626,  0.10678573, -0.26282405, -0.07601307, -0.21179064,\n",
      "       -0.19207307, -0.27565985, -0.20570776, -0.67785772, -0.6613169 ,\n",
      "        1.34652769, -7.46576585, -0.81272912, -4.97277831, -5.67708305,\n",
      "       -5.70108816, -7.24478661]), 'dones': False}]}\n"
     ]
    }
   ],
   "source": [
    "for env_idx, (act, rew, next_ob, done) in enumerate(zip(acts, rews, next_obs, dones)):\n",
    "    step_dict = dict(acts=act, rews=rew, next_obs=next_ob, dones=done)\n",
    "    trajectories_accum.add_step(env_idx, step_dict)"
   ]
  },
  {
   "cell_type": "code",
   "execution_count": null,
   "id": "dec2cf21-6197-48c8-932f-2bac2f4498c5",
   "metadata": {},
   "outputs": [],
   "source": [
    "step_dict = dict(acts=act, rews=rew, next_obs=next_ob, dones=done)\n",
    "trajectories_accum.add_step(env_idx, step_dict)"
   ]
  }
 ],
 "metadata": {
  "kernelspec": {
   "display_name": "Python 3 (ipykernel)",
   "language": "python",
   "name": "python3"
  },
  "language_info": {
   "codemirror_mode": {
    "name": "ipython",
    "version": 3
   },
   "file_extension": ".py",
   "mimetype": "text/x-python",
   "name": "python",
   "nbconvert_exporter": "python",
   "pygments_lexer": "ipython3",
   "version": "3.10.14"
  }
 },
 "nbformat": 4,
 "nbformat_minor": 5
}
