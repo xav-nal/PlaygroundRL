{
 "cells": [
  {
   "cell_type": "code",
   "execution_count": 1,
   "id": "615eaa5f-1e38-4364-8b9b-9996568e14f4",
   "metadata": {},
   "outputs": [
    {
     "name": "stderr",
     "output_type": "stream",
     "text": [
      "C:\\Users\\xavier\\anaconda3\\envs\\RL\\lib\\site-packages\\stable_baselines3\\common\\save_util.py:167: UserWarning: Could not deserialize object lr_schedule. Consider using `custom_objects` argument to replace this object.\n",
      "Exception: 'bytes' object cannot be interpreted as an integer\n",
      "  warnings.warn(\n",
      "C:\\Users\\xavier\\anaconda3\\envs\\RL\\lib\\site-packages\\stable_baselines3\\common\\vec_env\\patch_gym.py:95: UserWarning: You loaded a model that was trained using OpenAI Gym. We strongly recommend transitioning to Gymnasium by saving that model again.\n",
      "  warnings.warn(\n"
     ]
    },
    {
     "name": "stdout",
     "output_type": "stream",
     "text": [
      "num_env 4\n",
      "num observation 17\n",
      "num action 6\n"
     ]
    }
   ],
   "source": [
    "import numpy as np\n",
    "from imitation.policies.serialize import load_policy\n",
    "from imitation.util.util import make_vec_env\n",
    "\n",
    "env = make_vec_env(\n",
    "    \"HalfCheetah-v4\",\n",
    "    rng=np.random.default_rng(),\n",
    "    n_envs=4,\n",
    "    env_make_kwargs={\"render_mode\": \"rgb_array\"},\n",
    ")\n",
    "\n",
    "\n",
    "expert = load_policy(\n",
    "    \"sac-huggingface\",\n",
    "    organization=\"sb3\",\n",
    "    env_name=\"HalfCheetah-v3\",\n",
    "    venv=env,\n",
    ")\n",
    "\n",
    "obs = env.reset()\n",
    "print(\"num_env\", env.num_envs)\n",
    "print(\"num observation\", env.observation_space.shape[0])\n",
    "print(\"num action\", env.action_space.shape[0])"
   ]
  },
  {
   "cell_type": "code",
   "execution_count": 2,
   "id": "fc0265b4-b82c-4eb4-9cd0-d86cdec9a891",
   "metadata": {},
   "outputs": [],
   "source": [
    "from src.models.dagger import BC\n",
    "from src.models.dagger import SimpleDAggerTrainer"
   ]
  },
  {
   "cell_type": "code",
   "execution_count": 3,
   "id": "5e2905d3-af99-4da4-966b-7a86360b319f",
   "metadata": {},
   "outputs": [
    {
     "name": "stdout",
     "output_type": "stream",
     "text": [
      "observation_space Box(-inf, inf, (17,), float64)\n"
     ]
    }
   ],
   "source": [
    "bc_trainer = BC(\n",
    "    observation_space=env.observation_space, \n",
    "    action_space=env.action_space, \n",
    "    rng=np.random.default_rng())"
   ]
  },
  {
   "cell_type": "code",
   "execution_count": 4,
   "id": "ede09ab5-873c-4d2a-94f1-405c40a99ef3",
   "metadata": {},
   "outputs": [],
   "source": [
    "dagger_trainer = SimpleDAggerTrainer(\n",
    "    venv=env,\n",
    "    expert_policy=expert,\n",
    "    bc_trainer=bc_trainer,\n",
    "    rng=np.random.default_rng(),\n",
    ")"
   ]
  },
  {
   "cell_type": "code",
   "execution_count": 5,
   "id": "a3286011-a6ab-4053-a477-679a3fb66b25",
   "metadata": {},
   "outputs": [
    {
     "name": "stdout",
     "output_type": "stream",
     "text": [
      "round:  0\n",
      "partial_trajectories {0: [], 1: [], 2: [], 3: []}\n",
      "Start generate Traj\n",
      "finish_trajectory\n",
      "finish_trajectory\n",
      "finish_trajectory\n",
      "finish_trajectory\n",
      "active env sum  0\n",
      "active env [False False False False]\n",
      "END\n",
      "Epoch  0\n"
     ]
    },
    {
     "name": "stderr",
     "output_type": "stream",
     "text": [
      "Training :  15%|██████████▋                                                           | 19/125 [00:15<01:02,  1.71it/s]"
     ]
    },
    {
     "name": "stdout",
     "output_type": "stream",
     "text": [
      "loss tensor(7.3753, grad_fn=<AddBackward0>)\n"
     ]
    },
    {
     "name": "stderr",
     "output_type": "stream",
     "text": [
      "Training :  95%|█████████████████████████████████████████████████████████████████▋   | 119/125 [00:16<00:00, 27.55it/s]"
     ]
    },
    {
     "name": "stdout",
     "output_type": "stream",
     "text": [
      "loss tensor(5.3706, grad_fn=<AddBackward0>)\n"
     ]
    },
    {
     "name": "stderr",
     "output_type": "stream",
     "text": [
      "Training : 100%|█████████████████████████████████████████████████████████████████████| 125/125 [00:16<00:00,  7.39it/s]\n"
     ]
    },
    {
     "name": "stdout",
     "output_type": "stream",
     "text": [
      "Epoch  1\n"
     ]
    },
    {
     "name": "stderr",
     "output_type": "stream",
     "text": [
      "Training :  17%|███████████▊                                                          | 21/125 [00:15<00:53,  1.95it/s]"
     ]
    },
    {
     "name": "stdout",
     "output_type": "stream",
     "text": [
      "loss tensor(5.1271, grad_fn=<AddBackward0>)\n"
     ]
    },
    {
     "name": "stderr",
     "output_type": "stream",
     "text": [
      "Training :  97%|██████████████████████████████████████████████████████████████████▊  | 121/125 [00:15<00:00, 28.40it/s]"
     ]
    },
    {
     "name": "stdout",
     "output_type": "stream",
     "text": [
      "loss tensor(4.3002, grad_fn=<AddBackward0>)\n"
     ]
    },
    {
     "name": "stderr",
     "output_type": "stream",
     "text": [
      "Training : 100%|█████████████████████████████████████████████████████████████████████| 125/125 [00:16<00:00,  7.60it/s]\n"
     ]
    },
    {
     "name": "stdout",
     "output_type": "stream",
     "text": [
      "Epoch  2\n"
     ]
    },
    {
     "name": "stderr",
     "output_type": "stream",
     "text": [
      "Training :  12%|████████▍                                                             | 15/125 [00:14<01:17,  1.41it/s]"
     ]
    },
    {
     "name": "stdout",
     "output_type": "stream",
     "text": [
      "loss tensor(4.1618, grad_fn=<AddBackward0>)\n"
     ]
    },
    {
     "name": "stderr",
     "output_type": "stream",
     "text": [
      "Training :  93%|████████████████████████████████████████████████████████████████     | 116/125 [00:15<00:00, 33.64it/s]"
     ]
    },
    {
     "name": "stdout",
     "output_type": "stream",
     "text": [
      "loss tensor(3.6439, grad_fn=<AddBackward0>)\n"
     ]
    },
    {
     "name": "stderr",
     "output_type": "stream",
     "text": [
      "Training : 100%|█████████████████████████████████████████████████████████████████████| 125/125 [00:16<00:00,  7.64it/s]\n"
     ]
    },
    {
     "name": "stdout",
     "output_type": "stream",
     "text": [
      "Epoch  3\n"
     ]
    },
    {
     "name": "stderr",
     "output_type": "stream",
     "text": [
      "Training :   6%|████▌                                                                  | 8/125 [00:14<02:38,  1.35s/it]"
     ]
    },
    {
     "name": "stdout",
     "output_type": "stream",
     "text": [
      "loss tensor(3.4744, grad_fn=<AddBackward0>)\n"
     ]
    },
    {
     "name": "stderr",
     "output_type": "stream",
     "text": [
      "Training :  98%|███████████████████████████████████████████████████████████████████▉ | 123/125 [00:15<00:00, 38.36it/s]"
     ]
    },
    {
     "name": "stdout",
     "output_type": "stream",
     "text": [
      "loss tensor(2.7963, grad_fn=<AddBackward0>)\n"
     ]
    },
    {
     "name": "stderr",
     "output_type": "stream",
     "text": [
      "Training : 100%|█████████████████████████████████████████████████████████████████████| 125/125 [00:16<00:00,  7.71it/s]\n"
     ]
    }
   ],
   "source": [
    "dagger_trainer.train(1000)"
   ]
  },
  {
   "cell_type": "code",
   "execution_count": 13,
   "id": "569350c3-f8a2-42e1-bd9c-a59d859565de",
   "metadata": {},
   "outputs": [
    {
     "name": "stdout",
     "output_type": "stream",
     "text": [
      "rgb_array\n",
      "1000\n"
     ]
    }
   ],
   "source": [
    "import imageio\n",
    "images_trainer = []\n",
    "obs = env.reset()\n",
    "print(env.render_mode)\n",
    "dones = np.zeros(env.num_envs, dtype=bool)\n",
    "img = env.render()\n",
    "active = np.ones(env.num_envs, dtype=bool)\n",
    "while np.any(active):\n",
    "\n",
    "    images_trainer.append(img)\n",
    "    action, _ = dagger_trainer.policy.predict(obs)\n",
    "    obs, reward, dones, info = env.step(action)\n",
    "    img = env.render()\n",
    "\n",
    "    dones &= active\n",
    "    active &= ~dones\n",
    "    \n",
    "print(len(images_trainer))"
   ]
  },
  {
   "cell_type": "code",
   "execution_count": 14,
   "id": "0ba62334-ccf9-41d6-b4e2-65a92d433111",
   "metadata": {},
   "outputs": [],
   "source": [
    "from datetime import datetime\n",
    "imageio.mimsave(f'src/videos/dagger_trainer_{datetime.now().strftime(\"%d_%m_%Y_%H_%M\")}.gif', images_trainer)"
   ]
  },
  {
   "cell_type": "code",
   "execution_count": 15,
   "id": "4c048e4f-849b-4b96-8941-8a9e328d56e4",
   "metadata": {},
   "outputs": [
    {
     "ename": "NameError",
     "evalue": "name 'tempfile' is not defined",
     "output_type": "error",
     "traceback": [
      "\u001b[1;31m---------------------------------------------------------------------------\u001b[0m",
      "\u001b[1;31mNameError\u001b[0m                                 Traceback (most recent call last)",
      "Cell \u001b[1;32mIn[15], line 1\u001b[0m\n\u001b[1;32m----> 1\u001b[0m \u001b[38;5;28;01mwith\u001b[39;00m \u001b[43mtempfile\u001b[49m\u001b[38;5;241m.\u001b[39mTemporaryDirectory(prefix\u001b[38;5;241m=\u001b[39m\u001b[38;5;124m\"\u001b[39m\u001b[38;5;124mdagger_example_\u001b[39m\u001b[38;5;124m\"\u001b[39m) \u001b[38;5;28;01mas\u001b[39;00m tmpdir:\n\u001b[0;32m      2\u001b[0m     \u001b[38;5;28mprint\u001b[39m(tmpdir)\n",
      "\u001b[1;31mNameError\u001b[0m: name 'tempfile' is not defined"
     ]
    }
   ],
   "source": [
    "with tempfile.TemporaryDirectory(prefix=\"dagger_example_\") as tmpdir:\n",
    "    print(tmpdir)"
   ]
  },
  {
   "cell_type": "code",
   "execution_count": null,
   "id": "5e6601e6-9897-4a6b-9bd3-d608b36c0500",
   "metadata": {},
   "outputs": [],
   "source": []
  }
 ],
 "metadata": {
  "kernelspec": {
   "display_name": "Python 3 (ipykernel)",
   "language": "python",
   "name": "python3"
  },
  "language_info": {
   "codemirror_mode": {
    "name": "ipython",
    "version": 3
   },
   "file_extension": ".py",
   "mimetype": "text/x-python",
   "name": "python",
   "nbconvert_exporter": "python",
   "pygments_lexer": "ipython3",
   "version": "3.10.14"
  }
 },
 "nbformat": 4,
 "nbformat_minor": 5
}
