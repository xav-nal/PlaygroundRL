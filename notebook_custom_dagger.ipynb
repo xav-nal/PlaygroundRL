{
 "cells": [
  {
   "cell_type": "code",
   "execution_count": 1,
   "id": "615eaa5f-1e38-4364-8b9b-9996568e14f4",
   "metadata": {},
   "outputs": [
    {
     "name": "stderr",
     "output_type": "stream",
     "text": [
      "C:\\Users\\xavier\\anaconda3\\envs\\RL\\lib\\site-packages\\stable_baselines3\\common\\save_util.py:167: UserWarning: Could not deserialize object lr_schedule. Consider using `custom_objects` argument to replace this object.\n",
      "Exception: 'bytes' object cannot be interpreted as an integer\n",
      "  warnings.warn(\n",
      "C:\\Users\\xavier\\anaconda3\\envs\\RL\\lib\\site-packages\\stable_baselines3\\common\\vec_env\\patch_gym.py:95: UserWarning: You loaded a model that was trained using OpenAI Gym. We strongly recommend transitioning to Gymnasium by saving that model again.\n",
      "  warnings.warn(\n"
     ]
    }
   ],
   "source": [
    "import numpy as np\n",
    "from imitation.policies.serialize import load_policy\n",
    "from imitation.util.util import make_vec_env\n",
    "\n",
    "env = make_vec_env(\n",
    "    \"HalfCheetah-v4\",\n",
    "    rng=np.random.default_rng(),\n",
    "    n_envs=4,\n",
    "    env_make_kwargs={\"render_mode\": \"rgb_array\"},\n",
    ")\n",
    "\n",
    "\n",
    "expert = load_policy(\n",
    "    \"sac-huggingface\",\n",
    "    organization=\"sb3\",\n",
    "    env_name=\"HalfCheetah-v3\",\n",
    "    venv=env,\n",
    ")"
   ]
  },
  {
   "cell_type": "code",
   "execution_count": 2,
   "id": "031a3f91-1f45-40a5-8353-e588674c8011",
   "metadata": {},
   "outputs": [],
   "source": [
    "from src.models.dagger import TrajectoryAccumulator\n",
    "from src.models.dagger import generate_trajectories"
   ]
  },
  {
   "cell_type": "code",
   "execution_count": 3,
   "id": "44a4da6f-4479-4be9-9035-d4a342c5acb2",
   "metadata": {},
   "outputs": [
    {
     "name": "stdout",
     "output_type": "stream",
     "text": [
      "(4, 17)\n",
      "4 17 6\n"
     ]
    }
   ],
   "source": [
    "obs = env.reset()\n",
    "print(obs.shape)\n",
    "print(env.num_envs,env.observation_space.shape[0] ,env.action_space.shape[0])"
   ]
  },
  {
   "cell_type": "code",
   "execution_count": 4,
   "id": "f5729361-c500-41f4-8b88-0a5352cfd7f6",
   "metadata": {},
   "outputs": [
    {
     "name": "stdout",
     "output_type": "stream",
     "text": [
      "partial_trajectories {0: [], 1: [], 2: [], 3: []}\n",
      "Start generate Traj\n",
      "finish_trajectory\n",
      "finish_trajectory\n",
      "finish_trajectory\n",
      "finish_trajectory\n",
      "active env sum  0\n",
      "active env [False False False False]\n",
      "END\n"
     ]
    }
   ],
   "source": [
    "traj = generate_trajectories(expert, env)"
   ]
  },
  {
   "cell_type": "code",
   "execution_count": 5,
   "id": "c4cb044e-af55-41f5-afde-3b31619550d8",
   "metadata": {},
   "outputs": [
    {
     "name": "stdout",
     "output_type": "stream",
     "text": [
      "1001\n",
      "1001\n",
      "1001\n",
      "1001\n"
     ]
    }
   ],
   "source": [
    "print(len(traj[0]))\n",
    "print(len(traj[1]))\n",
    "print(len(traj[2]))\n",
    "print(len(traj[3]))"
   ]
  },
  {
   "cell_type": "code",
   "execution_count": 6,
   "id": "3f1403e6-d2f3-46ed-a9f1-18900c049db7",
   "metadata": {},
   "outputs": [
    {
     "name": "stdout",
     "output_type": "stream",
     "text": [
      "{'acts': array([-0.5271554 ,  0.30056047, -0.30244225, -0.5404374 , -0.85006374,\n",
      "       -0.42319733], dtype=float32), 'rews': -0.16523148, 'next_obs': array([-2.42663704e-01,  2.10417418e-01, -2.38853508e-01,  2.11678274e-01,\n",
      "       -1.78653869e-01, -4.13961262e-01, -5.37901678e-01, -2.34730622e-01,\n",
      "        1.09122265e-04, -9.92794956e-05, -5.09333508e-05,  5.97378926e-04,\n",
      "        4.56548483e-04,  5.80608531e-04, -3.35490091e-04, -1.04279205e-04,\n",
      "        4.10465653e-04]), 'dones': False}\n",
      "{'acts': array([-0.6864851 ,  0.03523588, -0.2958427 , -0.6306479 , -0.9497216 ,\n",
      "       -0.7521548 ], dtype=float32), 'rews': -0.24229474, 'next_obs': array([-2.29599610e-01,  2.52135061e-01, -3.35384931e-01,  6.05665469e-02,\n",
      "       -1.97162535e-01, -4.60677934e-01, -5.65993187e-01, -3.64459318e-01,\n",
      "        2.52118486e-04, -9.54029932e-05,  7.17936563e-05,  8.50477811e-04,\n",
      "        7.07578878e-04,  7.34645907e-04, -5.82745561e-04, -3.05304971e-04,\n",
      "       -1.72039684e-05]), 'dones': False}\n"
     ]
    }
   ],
   "source": [
    "print(traj[0][44])\n",
    "print(traj[1][44])"
   ]
  },
  {
   "cell_type": "code",
   "execution_count": 7,
   "id": "c16f805b-3426-45b3-9a93-77a7363615d4",
   "metadata": {},
   "outputs": [
    {
     "name": "stdout",
     "output_type": "stream",
     "text": [
      "4004\n"
     ]
    }
   ],
   "source": [
    "combined_trajectories = []\n",
    "\n",
    "for t in traj:\n",
    "    combined_trajectories.extend(t)\n",
    "\n",
    "print(len(combined_trajectories))"
   ]
  },
  {
   "cell_type": "code",
   "execution_count": 8,
   "id": "fc0265b4-b82c-4eb4-9cd0-d86cdec9a891",
   "metadata": {},
   "outputs": [],
   "source": [
    "from src.models.dagger import ReplayBuffer\n",
    "from src.models.dagger import BC\n",
    "from src.models.dagger import SimpleDAggerTrainer"
   ]
  },
  {
   "cell_type": "code",
   "execution_count": 9,
   "id": "25c9010d-7b3c-4186-98a7-bf7a5fbb7a39",
   "metadata": {},
   "outputs": [],
   "source": [
    "rb = ReplayBuffer(combined_trajectories)"
   ]
  },
  {
   "cell_type": "code",
   "execution_count": 10,
   "id": "eff8b710-1dfb-41e4-bb2e-a146e0242096",
   "metadata": {},
   "outputs": [],
   "source": [
    "from torch.utils.data import Dataset, DataLoader\n",
    "from tqdm import tqdm"
   ]
  },
  {
   "cell_type": "code",
   "execution_count": 11,
   "id": "cfd85e5b-2905-4b30-93af-4e6b9c5ddec4",
   "metadata": {},
   "outputs": [],
   "source": [
    "rb_loader = DataLoader(rb, batch_size=32, shuffle=True)"
   ]
  },
  {
   "cell_type": "code",
   "execution_count": 12,
   "id": "e3acd843-4a4a-4ee5-9d7b-9e9408ceca0b",
   "metadata": {},
   "outputs": [
    {
     "name": "stderr",
     "output_type": "stream",
     "text": [
      "  0%|                                                                                          | 0/126 [00:00<?, ?it/s]"
     ]
    },
    {
     "name": "stdout",
     "output_type": "stream",
     "text": [
      "torch.Size([32, 17]) torch.Size([32, 6])\n"
     ]
    },
    {
     "name": "stderr",
     "output_type": "stream",
     "text": [
      "\n"
     ]
    }
   ],
   "source": [
    "for i, batch in enumerate(tqdm(rb_loader), 0):\n",
    "    print(batch[0].shape,batch[1].shape )\n",
    "    break"
   ]
  },
  {
   "cell_type": "code",
   "execution_count": 13,
   "id": "5e2905d3-af99-4da4-966b-7a86360b319f",
   "metadata": {},
   "outputs": [
    {
     "name": "stdout",
     "output_type": "stream",
     "text": [
      "observation_space Box(-inf, inf, (17,), float64)\n"
     ]
    }
   ],
   "source": [
    "bc_trainer = BC(\n",
    "    observation_space=env.observation_space, \n",
    "    action_space=env.action_space, \n",
    "    rng=np.random.default_rng(),\n",
    "    demonstrations=rb)"
   ]
  },
  {
   "cell_type": "code",
   "execution_count": 14,
   "id": "ede09ab5-873c-4d2a-94f1-405c40a99ef3",
   "metadata": {},
   "outputs": [],
   "source": [
    "dagger_trainer = SimpleDAggerTrainer(\n",
    "    venv=env,\n",
    "    expert_policy=expert,\n",
    "    bc_trainer=bc_trainer,\n",
    "    rng=np.random.default_rng(),\n",
    ")"
   ]
  },
  {
   "cell_type": "code",
   "execution_count": null,
   "id": "a3286011-a6ab-4053-a477-679a3fb66b25",
   "metadata": {},
   "outputs": [],
   "source": []
  },
  {
   "cell_type": "code",
   "execution_count": null,
   "id": "569350c3-f8a2-42e1-bd9c-a59d859565de",
   "metadata": {},
   "outputs": [],
   "source": []
  }
 ],
 "metadata": {
  "kernelspec": {
   "display_name": "Python 3 (ipykernel)",
   "language": "python",
   "name": "python3"
  },
  "language_info": {
   "codemirror_mode": {
    "name": "ipython",
    "version": 3
   },
   "file_extension": ".py",
   "mimetype": "text/x-python",
   "name": "python",
   "nbconvert_exporter": "python",
   "pygments_lexer": "ipython3",
   "version": "3.10.14"
  }
 },
 "nbformat": 4,
 "nbformat_minor": 5
}
