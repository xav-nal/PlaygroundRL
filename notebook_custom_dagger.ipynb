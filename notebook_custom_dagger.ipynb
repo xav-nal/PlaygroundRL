{
 "cells": [
  {
   "cell_type": "code",
   "execution_count": 1,
   "id": "615eaa5f-1e38-4364-8b9b-9996568e14f4",
   "metadata": {},
   "outputs": [
    {
     "name": "stderr",
     "output_type": "stream",
     "text": [
      "C:\\Users\\xavier\\anaconda3\\envs\\RL\\lib\\site-packages\\stable_baselines3\\common\\save_util.py:167: UserWarning: Could not deserialize object lr_schedule. Consider using `custom_objects` argument to replace this object.\n",
      "Exception: 'bytes' object cannot be interpreted as an integer\n",
      "  warnings.warn(\n",
      "C:\\Users\\xavier\\anaconda3\\envs\\RL\\lib\\site-packages\\stable_baselines3\\common\\vec_env\\patch_gym.py:95: UserWarning: You loaded a model that was trained using OpenAI Gym. We strongly recommend transitioning to Gymnasium by saving that model again.\n",
      "  warnings.warn(\n"
     ]
    }
   ],
   "source": [
    "import numpy as np\n",
    "from imitation.policies.serialize import load_policy\n",
    "from imitation.util.util import make_vec_env\n",
    "\n",
    "env = make_vec_env(\n",
    "    \"HalfCheetah-v4\",\n",
    "    rng=np.random.default_rng(),\n",
    "    n_envs=4,\n",
    "    env_make_kwargs={\"render_mode\": \"rgb_array\"},\n",
    ")\n",
    "\n",
    "\n",
    "expert = load_policy(\n",
    "    \"sac-huggingface\",\n",
    "    organization=\"sb3\",\n",
    "    env_name=\"HalfCheetah-v3\",\n",
    "    venv=env,\n",
    ")"
   ]
  },
  {
   "cell_type": "code",
   "execution_count": 2,
   "id": "031a3f91-1f45-40a5-8353-e588674c8011",
   "metadata": {},
   "outputs": [],
   "source": [
    "from src.models.dagger import TrajectoryAccumulator\n",
    "from src.models.dagger import generate_trajectories"
   ]
  },
  {
   "cell_type": "code",
   "execution_count": 12,
   "id": "44a4da6f-4479-4be9-9035-d4a342c5acb2",
   "metadata": {},
   "outputs": [
    {
     "name": "stdout",
     "output_type": "stream",
     "text": [
      "(4, 17)\n",
      "4 17 6\n"
     ]
    }
   ],
   "source": [
    "obs = env.reset()\n",
    "print(obs.shape)\n",
    "print(env.num_envs,env.observation_space.shape[0] ,env.action_space.shape[0])"
   ]
  },
  {
   "cell_type": "code",
   "execution_count": 4,
   "id": "f5729361-c500-41f4-8b88-0a5352cfd7f6",
   "metadata": {},
   "outputs": [
    {
     "name": "stdout",
     "output_type": "stream",
     "text": [
      "partial_trajectories {0: [], 1: [], 2: [], 3: []}\n",
      "Start generate Traj\n",
      "finish_trajectory\n",
      "finish_trajectory\n",
      "finish_trajectory\n",
      "finish_trajectory\n",
      "active env sum  0\n",
      "active env [False False False False]\n",
      "END\n"
     ]
    }
   ],
   "source": [
    "traj = generate_trajectories(expert, env)"
   ]
  },
  {
   "cell_type": "code",
   "execution_count": 13,
   "id": "c4cb044e-af55-41f5-afde-3b31619550d8",
   "metadata": {},
   "outputs": [
    {
     "name": "stdout",
     "output_type": "stream",
     "text": [
      "1001\n",
      "1001\n",
      "1001\n",
      "1001\n"
     ]
    }
   ],
   "source": [
    "print(len(traj[0]))\n",
    "print(len(traj[1]))\n",
    "print(len(traj[2]))\n",
    "print(len(traj[3]))"
   ]
  }
 ],
 "metadata": {
  "kernelspec": {
   "display_name": "Python 3 (ipykernel)",
   "language": "python",
   "name": "python3"
  },
  "language_info": {
   "codemirror_mode": {
    "name": "ipython",
    "version": 3
   },
   "file_extension": ".py",
   "mimetype": "text/x-python",
   "name": "python",
   "nbconvert_exporter": "python",
   "pygments_lexer": "ipython3",
   "version": "3.10.14"
  }
 },
 "nbformat": 4,
 "nbformat_minor": 5
}
