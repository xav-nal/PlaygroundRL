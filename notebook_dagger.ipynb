{
 "cells": [
  {
   "cell_type": "code",
   "execution_count": 1,
   "id": "619ec899-b55e-4a1e-aadf-d8b6b7ddd3e8",
   "metadata": {},
   "outputs": [],
   "source": [
    "import tempfile\n",
    "\n",
    "import numpy as np\n",
    "import gymnasium as gym\n",
    "from stable_baselines3.common.evaluation import evaluate_policy"
   ]
  },
  {
   "cell_type": "code",
   "execution_count": 72,
   "id": "1826502d-ea03-407d-afbf-75effef6d14d",
   "metadata": {},
   "outputs": [
    {
     "name": "stdout",
     "output_type": "stream",
     "text": [
      "rgb_array\n"
     ]
    }
   ],
   "source": [
    "import numpy as np\n",
    "from imitation.policies.serialize import load_policy\n",
    "from imitation.util.util import make_vec_env\n",
    "from stable_baselines3.common.vec_env import VecVideoRecorder\n",
    "\n",
    "env = make_vec_env(\n",
    "    \"seals:seals/CartPole-v0\",\n",
    "    rng=np.random.default_rng(),\n",
    "    n_envs=1,\n",
    "    env_make_kwargs={\"render_mode\": \"rgb_array\"},\n",
    ")\n",
    "print(env.render_mode)"
   ]
  },
  {
   "cell_type": "code",
   "execution_count": 67,
   "id": "ba819975-6f45-437f-9038-3ac650b915db",
   "metadata": {},
   "outputs": [
    {
     "name": "stdout",
     "output_type": "stream",
     "text": [
      "C:\\Users\\xavier\\Documents\\2-Code\\0-Thesis\\PlaygroundRL\\src\\videos\n"
     ]
    }
   ],
   "source": [
    "import os\n",
    "from pathlib import Path\n",
    "from imitation.util.video_wrapper import VideoWrapper\n",
    "\n",
    "directory_path = Path(os.path.join(os.getcwd(), \"src\", \"videos\"))\n",
    "print(directory_path)\n",
    "\n",
    "wrapper_video = VideoWrapper(env, directory_path, single_video = False)"
   ]
  },
  {
   "cell_type": "code",
   "execution_count": 73,
   "id": "4fcadffb-f2f4-4710-926e-c2b5059bceb5",
   "metadata": {},
   "outputs": [],
   "source": [
    "expert = load_policy(\n",
    "    \"ppo-huggingface\",\n",
    "    organization=\"HumanCompatibleAI\",\n",
    "    env_name=\"seals/CartPole-v0\",\n",
    "    venv=env,\n",
    ")"
   ]
  },
  {
   "cell_type": "code",
   "execution_count": 76,
   "id": "b697d168-08a3-45a7-b65b-ec7accddf4c4",
   "metadata": {},
   "outputs": [
    {
     "name": "stdout",
     "output_type": "stream",
     "text": [
      "rgb_array\n",
      "500\n"
     ]
    }
   ],
   "source": [
    "import imageio\n",
    "images = []\n",
    "obs = env.reset()\n",
    "print(env.render_mode)\n",
    "done = False\n",
    "img = env.render()\n",
    "while not done:\n",
    "    images.append(img)\n",
    "    action, _ = expert.predict(obs)\n",
    "    obs, reward, done, info = env.step(action)\n",
    "    img = env.render()\n",
    "    \n",
    "print(len(images))\n",
    "imageio.mimsave('imitation_render.gif', images)"
   ]
  },
  {
   "cell_type": "code",
   "execution_count": 78,
   "id": "124cbef9-f92c-47fc-a721-98580ac58cc1",
   "metadata": {},
   "outputs": [],
   "source": [
    "imageio.mimsave('src/videos/imitation_render.gif', images)"
   ]
  },
  {
   "cell_type": "code",
   "execution_count": null,
   "id": "126f037f-22e0-47b8-8db9-74e527e76592",
   "metadata": {},
   "outputs": [],
   "source": []
  }
 ],
 "metadata": {
  "kernelspec": {
   "display_name": "Python 3 (ipykernel)",
   "language": "python",
   "name": "python3"
  },
  "language_info": {
   "codemirror_mode": {
    "name": "ipython",
    "version": 3
   },
   "file_extension": ".py",
   "mimetype": "text/x-python",
   "name": "python",
   "nbconvert_exporter": "python",
   "pygments_lexer": "ipython3",
   "version": "3.10.14"
  }
 },
 "nbformat": 4,
 "nbformat_minor": 5
}
