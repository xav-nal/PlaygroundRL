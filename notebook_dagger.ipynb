{
 "cells": [
  {
   "cell_type": "code",
   "execution_count": 9,
   "id": "1826502d-ea03-407d-afbf-75effef6d14d",
   "metadata": {
    "scrolled": true
   },
   "outputs": [],
   "source": [
    "import numpy as np\n",
    "from imitation.policies.serialize import load_policy\n",
    "from imitation.util.util import make_vec_env\n",
    "from stable_baselines3.common.vec_env import VecVideoRecorder\n",
    "\n",
    "env = make_vec_env(\n",
    "    \"HalfCheetah-v4\",\n",
    "    rng=np.random.default_rng(),\n",
    "    n_envs=1,\n",
    "    env_make_kwargs={\"render_mode\": \"rgb_array\"},\n",
    ")"
   ]
  },
  {
   "cell_type": "code",
   "execution_count": 10,
   "id": "e2ff699a-690e-4a56-b66d-4001ccfa4423",
   "metadata": {},
   "outputs": [
    {
     "data": {
      "application/vnd.jupyter.widget-view+json": {
       "model_id": "1f4006d123384ab582151221b5d20156",
       "version_major": 2,
       "version_minor": 0
      },
      "text/plain": [
       "sac-HalfCheetah-v3.zip:   0%|          | 0.00/3.24M [00:00<?, ?B/s]"
      ]
     },
     "metadata": {},
     "output_type": "display_data"
    },
    {
     "name": "stderr",
     "output_type": "stream",
     "text": [
      "C:\\Users\\xavier\\anaconda3\\envs\\RL\\lib\\site-packages\\huggingface_hub\\file_download.py:148: UserWarning: `huggingface_hub` cache-system uses symlinks by default to efficiently store duplicated files but your machine does not support them in C:\\Users\\xavier\\.cache\\huggingface\\hub\\models--sb3--sac-HalfCheetah-v3. Caching files will still work but in a degraded version that might require more space on your disk. This warning can be disabled by setting the `HF_HUB_DISABLE_SYMLINKS_WARNING` environment variable. For more details, see https://huggingface.co/docs/huggingface_hub/how-to-cache#limitations.\n",
      "To support symlinks on Windows, you either need to activate Developer Mode or to run Python as an administrator. In order to see activate developer mode, see this article: https://docs.microsoft.com/en-us/windows/apps/get-started/enable-your-device-for-development\n",
      "  warnings.warn(message)\n"
     ]
    }
   ],
   "source": [
    "expert = load_policy(\n",
    "    \"sac-huggingface\",\n",
    "    organization=\"sb3\",\n",
    "    env_name=\"HalfCheetah-v3\",\n",
    "    venv=env,\n",
    ")"
   ]
  },
  {
   "cell_type": "code",
   "execution_count": 11,
   "id": "b697d168-08a3-45a7-b65b-ec7accddf4c4",
   "metadata": {},
   "outputs": [
    {
     "name": "stdout",
     "output_type": "stream",
     "text": [
      "rgb_array\n",
      "1000\n"
     ]
    }
   ],
   "source": [
    "import imageio\n",
    "images = []\n",
    "obs = env.reset()\n",
    "print(env.render_mode)\n",
    "done = False\n",
    "img = env.render()\n",
    "while not done:\n",
    "    images.append(img)\n",
    "    action, _ = expert.predict(obs)\n",
    "    obs, reward, done, info = env.step(action)\n",
    "    img = env.render()\n",
    "    \n",
    "print(len(images))\n"
   ]
  },
  {
   "cell_type": "code",
   "execution_count": 12,
   "id": "124cbef9-f92c-47fc-a721-98580ac58cc1",
   "metadata": {},
   "outputs": [],
   "source": [
    "from datetime import datetime\n",
    "imageio.mimsave(f'src/videos/imitation_render_{datetime.now().strftime(\"%d_%m_%Y_%H_%M\")}.gif', images)"
   ]
  },
  {
   "cell_type": "code",
   "execution_count": 15,
   "id": "3551862f-27a4-4416-8be3-0ad51bafb6df",
   "metadata": {},
   "outputs": [
    {
     "name": "stdout",
     "output_type": "stream",
     "text": [
      "C:\\Users\\xavier\\AppData\\Local\\Temp\\dagger_example_futb_a31\n"
     ]
    },
    {
     "data": {
      "application/vnd.jupyter.widget-view+json": {
       "model_id": "f7121448dc0d4167a2326b748178d10c",
       "version_major": 2,
       "version_minor": 0
      },
      "text/plain": [
       "Saving the dataset (0/1 shards):   0%|          | 0/1 [00:00<?, ? examples/s]"
      ]
     },
     "metadata": {},
     "output_type": "display_data"
    },
    {
     "data": {
      "application/vnd.jupyter.widget-view+json": {
       "model_id": "f96b531b03fb4b57a8da5d9cc16f035b",
       "version_major": 2,
       "version_minor": 0
      },
      "text/plain": [
       "Saving the dataset (0/1 shards):   0%|          | 0/1 [00:00<?, ? examples/s]"
      ]
     },
     "metadata": {},
     "output_type": "display_data"
    },
    {
     "data": {
      "application/vnd.jupyter.widget-view+json": {
       "model_id": "da1bae6fdfea4708ace1a60b8b59fd37",
       "version_major": 2,
       "version_minor": 0
      },
      "text/plain": [
       "Saving the dataset (0/1 shards):   0%|          | 0/1 [00:00<?, ? examples/s]"
      ]
     },
     "metadata": {},
     "output_type": "display_data"
    },
    {
     "name": "stderr",
     "output_type": "stream",
     "text": [
      "0batch [00:00, ?batch/s]"
     ]
    },
    {
     "name": "stdout",
     "output_type": "stream",
     "text": [
      "--------------------------------\n",
      "| batch_size        | 32       |\n",
      "| bc/               |          |\n",
      "|    batch          | 0        |\n",
      "|    ent_loss       | -0.00851 |\n",
      "|    entropy        | 8.51     |\n",
      "|    epoch          | 0        |\n",
      "|    l2_loss        | 0        |\n",
      "|    l2_norm        | 98.5     |\n",
      "|    loss           | 7.43     |\n",
      "|    neglogp        | 7.44     |\n",
      "|    prob_true_act  | 0.000627 |\n",
      "|    samples_so_far | 32       |\n",
      "| rollout/          |          |\n",
      "|    return_max     | -244     |\n",
      "|    return_mean    | -359     |\n",
      "|    return_min     | -437     |\n",
      "|    return_std     | 64.1     |\n",
      "--------------------------------\n"
     ]
    },
    {
     "name": "stderr",
     "output_type": "stream",
     "text": [
      "79batch [00:04, 40.43batch/s]\n",
      "176batch [00:05, 129.96batch/s]A\n",
      "269batch [00:05, 194.34batch/s]\u001b[A\n",
      "366batch [00:05, 226.69batch/s]\u001b[A\n",
      "372batch [00:06, 61.81batch/s] \u001b[A\n"
     ]
    },
    {
     "data": {
      "application/vnd.jupyter.widget-view+json": {
       "model_id": "d3671096bc744d0dbc32ffd9d4454343",
       "version_major": 2,
       "version_minor": 0
      },
      "text/plain": [
       "Saving the dataset (0/1 shards):   0%|          | 0/1 [00:00<?, ? examples/s]"
      ]
     },
     "metadata": {},
     "output_type": "display_data"
    },
    {
     "data": {
      "application/vnd.jupyter.widget-view+json": {
       "model_id": "67784c379361427c9e86f9b8503bfd79",
       "version_major": 2,
       "version_minor": 0
      },
      "text/plain": [
       "Saving the dataset (0/1 shards):   0%|          | 0/1 [00:00<?, ? examples/s]"
      ]
     },
     "metadata": {},
     "output_type": "display_data"
    },
    {
     "data": {
      "application/vnd.jupyter.widget-view+json": {
       "model_id": "8ccd8923afa642f8bb555731ff667c14",
       "version_major": 2,
       "version_minor": 0
      },
      "text/plain": [
       "Saving the dataset (0/1 shards):   0%|          | 0/1 [00:00<?, ? examples/s]"
      ]
     },
     "metadata": {},
     "output_type": "display_data"
    },
    {
     "name": "stderr",
     "output_type": "stream",
     "text": [
      "0batch [00:00, ?batch/s]"
     ]
    },
    {
     "name": "stdout",
     "output_type": "stream",
     "text": [
      "--------------------------------\n",
      "| batch_size        | 32       |\n",
      "| bc/               |          |\n",
      "|    batch          | 0        |\n",
      "|    ent_loss       | -0.00599 |\n",
      "|    entropy        | 5.99     |\n",
      "|    epoch          | 0        |\n",
      "|    l2_loss        | 0        |\n",
      "|    l2_norm        | 110      |\n",
      "|    loss           | 3.75     |\n",
      "|    neglogp        | 3.76     |\n",
      "|    prob_true_act  | 0.0325   |\n",
      "|    samples_so_far | 32       |\n",
      "| rollout/          |          |\n",
      "|    return_max     | -236     |\n",
      "|    return_mean    | -296     |\n",
      "|    return_min     | -342     |\n",
      "|    return_std     | 39.6     |\n",
      "--------------------------------\n"
     ]
    },
    {
     "name": "stderr",
     "output_type": "stream",
     "text": [
      "168batch [00:03, 131.08batch/s]\n",
      "357batch [00:04, 224.99batch/s]\u001b[A\n",
      "479batch [00:05, 228.57batch/s]\u001b[A"
     ]
    },
    {
     "name": "stdout",
     "output_type": "stream",
     "text": [
      "--------------------------------\n",
      "| batch_size        | 32       |\n",
      "| bc/               |          |\n",
      "|    batch          | 500      |\n",
      "|    ent_loss       | -0.0034  |\n",
      "|    entropy        | 3.4      |\n",
      "|    epoch          | 2        |\n",
      "|    l2_loss        | 0        |\n",
      "|    l2_norm        | 124      |\n",
      "|    loss           | 1.25     |\n",
      "|    neglogp        | 1.25     |\n",
      "|    prob_true_act  | 0.396    |\n",
      "|    samples_so_far | 16032    |\n",
      "| rollout/          |          |\n",
      "|    return_max     | 84.4     |\n",
      "|    return_mean    | -140     |\n",
      "|    return_min     | -401     |\n",
      "|    return_std     | 166      |\n",
      "--------------------------------\n"
     ]
    },
    {
     "name": "stderr",
     "output_type": "stream",
     "text": [
      "551batch [00:08, 44.56batch/s] \n",
      "745batch [00:09, 180.80batch/s][A\n",
      "748batch [00:09, 80.70batch/s] \u001b[A\n"
     ]
    },
    {
     "data": {
      "application/vnd.jupyter.widget-view+json": {
       "model_id": "1a0191e227a241d7a80a3a328e95cdc4",
       "version_major": 2,
       "version_minor": 0
      },
      "text/plain": [
       "Saving the dataset (0/1 shards):   0%|          | 0/1 [00:00<?, ? examples/s]"
      ]
     },
     "metadata": {},
     "output_type": "display_data"
    },
    {
     "data": {
      "application/vnd.jupyter.widget-view+json": {
       "model_id": "3d898465378248babd88f40697cae4e3",
       "version_major": 2,
       "version_minor": 0
      },
      "text/plain": [
       "Saving the dataset (0/1 shards):   0%|          | 0/1 [00:00<?, ? examples/s]"
      ]
     },
     "metadata": {},
     "output_type": "display_data"
    },
    {
     "data": {
      "application/vnd.jupyter.widget-view+json": {
       "model_id": "f10f6a56cc034582b525b45dfb73a099",
       "version_major": 2,
       "version_minor": 0
      },
      "text/plain": [
       "Saving the dataset (0/1 shards):   0%|          | 0/1 [00:00<?, ? examples/s]"
      ]
     },
     "metadata": {},
     "output_type": "display_data"
    },
    {
     "name": "stderr",
     "output_type": "stream",
     "text": [
      "0batch [00:00, ?batch/s]"
     ]
    },
    {
     "name": "stdout",
     "output_type": "stream",
     "text": [
      "--------------------------------\n",
      "| batch_size        | 32       |\n",
      "| bc/               |          |\n",
      "|    batch          | 0        |\n",
      "|    ent_loss       | -0.00235 |\n",
      "|    entropy        | 2.35     |\n",
      "|    epoch          | 0        |\n",
      "|    l2_loss        | 0        |\n",
      "|    l2_norm        | 130      |\n",
      "|    loss           | 1.15     |\n",
      "|    neglogp        | 1.15     |\n",
      "|    prob_true_act  | 1        |\n",
      "|    samples_so_far | 32       |\n",
      "| rollout/          |          |\n",
      "|    return_max     | 619      |\n",
      "|    return_mean    | 175      |\n",
      "|    return_min     | -252     |\n",
      "|    return_std     | 297      |\n",
      "--------------------------------\n"
     ]
    },
    {
     "name": "stderr",
     "output_type": "stream",
     "text": [
      "264batch [00:04, 200.42batch/s]\n",
      "480batch [00:05, 228.70batch/s]\u001b[A"
     ]
    },
    {
     "name": "stdout",
     "output_type": "stream",
     "text": [
      "--------------------------------\n",
      "| batch_size        | 32       |\n",
      "| bc/               |          |\n",
      "|    batch          | 500      |\n",
      "|    ent_loss       | -0.00128 |\n",
      "|    entropy        | 1.28     |\n",
      "|    epoch          | 1        |\n",
      "|    l2_loss        | 0        |\n",
      "|    l2_norm        | 139      |\n",
      "|    loss           | 0.432    |\n",
      "|    neglogp        | 0.434    |\n",
      "|    prob_true_act  | 2.51     |\n",
      "|    samples_so_far | 16032    |\n",
      "| rollout/          |          |\n",
      "|    return_max     | 591      |\n",
      "|    return_mean    | 217      |\n",
      "|    return_min     | -229     |\n",
      "|    return_std     | 283      |\n",
      "--------------------------------\n"
     ]
    },
    {
     "name": "stderr",
     "output_type": "stream",
     "text": [
      "543batch [00:08, 36.15batch/s] \n",
      "843batch [00:10, 191.37batch/s][A\n",
      "982batch [00:11, 187.67batch/s]\u001b[A"
     ]
    },
    {
     "name": "stdout",
     "output_type": "stream",
     "text": [
      "---------------------------------\n",
      "| batch_size        | 32        |\n",
      "| bc/               |           |\n",
      "|    batch          | 1000      |\n",
      "|    ent_loss       | -0.000847 |\n",
      "|    entropy        | 0.847     |\n",
      "|    epoch          | 3         |\n",
      "|    l2_loss        | 0         |\n",
      "|    l2_norm        | 147       |\n",
      "|    loss           | -0.6      |\n",
      "|    neglogp        | -0.599    |\n",
      "|    prob_true_act  | 4.34      |\n",
      "|    samples_so_far | 32032     |\n",
      "| rollout/          |           |\n",
      "|    return_max     | 495       |\n",
      "|    return_mean    | 197       |\n",
      "|    return_min     | -83.2     |\n",
      "|    return_std     | 186       |\n",
      "---------------------------------\n"
     ]
    },
    {
     "name": "stderr",
     "output_type": "stream",
     "text": [
      "1107batch [00:15, 75.54batch/s]\n",
      "1124batch [00:15, 73.36batch/s]\u001b[A\n"
     ]
    },
    {
     "data": {
      "application/vnd.jupyter.widget-view+json": {
       "model_id": "05b1744b44d74723ba8fdb332915c8fe",
       "version_major": 2,
       "version_minor": 0
      },
      "text/plain": [
       "Saving the dataset (0/1 shards):   0%|          | 0/1 [00:00<?, ? examples/s]"
      ]
     },
     "metadata": {},
     "output_type": "display_data"
    },
    {
     "data": {
      "application/vnd.jupyter.widget-view+json": {
       "model_id": "f994cebb30da4f3fb0ddd195ccb11aa2",
       "version_major": 2,
       "version_minor": 0
      },
      "text/plain": [
       "Saving the dataset (0/1 shards):   0%|          | 0/1 [00:00<?, ? examples/s]"
      ]
     },
     "metadata": {},
     "output_type": "display_data"
    },
    {
     "data": {
      "application/vnd.jupyter.widget-view+json": {
       "model_id": "5ba9a1e354744a3e91f88fd1cbf93937",
       "version_major": 2,
       "version_minor": 0
      },
      "text/plain": [
       "Saving the dataset (0/1 shards):   0%|          | 0/1 [00:00<?, ? examples/s]"
      ]
     },
     "metadata": {},
     "output_type": "display_data"
    },
    {
     "name": "stderr",
     "output_type": "stream",
     "text": [
      "0batch [00:00, ?batch/s]"
     ]
    },
    {
     "name": "stdout",
     "output_type": "stream",
     "text": [
      "---------------------------------\n",
      "| batch_size        | 32        |\n",
      "| bc/               |           |\n",
      "|    batch          | 0         |\n",
      "|    ent_loss       | -0.000732 |\n",
      "|    entropy        | 0.732     |\n",
      "|    epoch          | 0         |\n",
      "|    l2_loss        | 0         |\n",
      "|    l2_norm        | 149       |\n",
      "|    loss           | -0.861    |\n",
      "|    neglogp        | -0.86     |\n",
      "|    prob_true_act  | 4.73      |\n",
      "|    samples_so_far | 32        |\n",
      "| rollout/          |           |\n",
      "|    return_max     | 764       |\n",
      "|    return_mean    | 449       |\n",
      "|    return_min     | -32.3     |\n",
      "|    return_std     | 268       |\n",
      "---------------------------------\n"
     ]
    },
    {
     "name": "stderr",
     "output_type": "stream",
     "text": [
      "360batch [00:05, 184.21batch/s]\n",
      "493batch [00:06, 183.96batch/s]\u001b[A"
     ]
    },
    {
     "name": "stdout",
     "output_type": "stream",
     "text": [
      "---------------------------------\n",
      "| batch_size        | 32        |\n",
      "| bc/               |           |\n",
      "|    batch          | 500       |\n",
      "|    ent_loss       | -0.000849 |\n",
      "|    entropy        | 0.849     |\n",
      "|    epoch          | 1         |\n",
      "|    l2_loss        | 0         |\n",
      "|    l2_norm        | 154       |\n",
      "|    loss           | -0.216    |\n",
      "|    neglogp        | -0.215    |\n",
      "|    prob_true_act  | 4.12      |\n",
      "|    samples_so_far | 16032     |\n",
      "| rollout/          |           |\n",
      "|    return_max     | 867       |\n",
      "|    return_mean    | 452       |\n",
      "|    return_min     | 164       |\n",
      "|    return_std     | 234       |\n",
      "---------------------------------\n"
     ]
    },
    {
     "name": "stderr",
     "output_type": "stream",
     "text": [
      "734batch [00:10, 168.12batch/s]\n",
      "981batch [00:11, 197.27batch/s]\u001b[A"
     ]
    },
    {
     "name": "stdout",
     "output_type": "stream",
     "text": [
      "--------------------------------\n",
      "| batch_size        | 32       |\n",
      "| bc/               |          |\n",
      "|    batch          | 1000     |\n",
      "|    ent_loss       | -0.00086 |\n",
      "|    entropy        | 0.86     |\n",
      "|    epoch          | 2        |\n",
      "|    l2_loss        | 0        |\n",
      "|    l2_norm        | 158      |\n",
      "|    loss           | 1.01     |\n",
      "|    neglogp        | 1.01     |\n",
      "|    prob_true_act  | 3.67     |\n",
      "|    samples_so_far | 32032    |\n",
      "| rollout/          |          |\n",
      "|    return_max     | 919      |\n",
      "|    return_mean    | 376      |\n",
      "|    return_min     | -83.6    |\n",
      "|    return_std     | 333      |\n",
      "--------------------------------\n"
     ]
    },
    {
     "name": "stderr",
     "output_type": "stream",
     "text": [
      "1119batch [00:15, 90.93batch/s]\n",
      "1497batch [00:17, 192.63batch/s][A\n",
      "1500batch [00:17, 84.41batch/s] \u001b[A\n"
     ]
    }
   ],
   "source": [
    "import tempfile\n",
    "\n",
    "from imitation.algorithms import bc\n",
    "from imitation.algorithms.dagger import SimpleDAggerTrainer\n",
    "\n",
    "bc_trainer = bc.BC(\n",
    "    observation_space=env.observation_space,\n",
    "    action_space=env.action_space,\n",
    "    rng=np.random.default_rng(),\n",
    ")\n",
    "\n",
    "with tempfile.TemporaryDirectory(prefix=\"dagger_example_\") as tmpdir:\n",
    "    print(tmpdir)\n",
    "    dagger_trainer = SimpleDAggerTrainer(\n",
    "        venv=env,\n",
    "        scratch_dir=tmpdir,\n",
    "        expert_policy=expert,\n",
    "        bc_trainer=bc_trainer,\n",
    "        rng=np.random.default_rng(),\n",
    "    )\n",
    "\n",
    "    dagger_trainer.train(10000)"
   ]
  },
  {
   "cell_type": "code",
   "execution_count": 16,
   "id": "58f39c2b-6d67-4390-893f-0b5cf1a68628",
   "metadata": {},
   "outputs": [
    {
     "name": "stdout",
     "output_type": "stream",
     "text": [
      "152.50439255\n"
     ]
    }
   ],
   "source": [
    "from stable_baselines3.common.evaluation import evaluate_policy\n",
    "\n",
    "reward, _ = evaluate_policy(dagger_trainer.policy, env, 20)\n",
    "print(reward)"
   ]
  },
  {
   "cell_type": "code",
   "execution_count": 18,
   "id": "58bac53d-45c9-484d-ba57-964a1a54b707",
   "metadata": {},
   "outputs": [
    {
     "name": "stdout",
     "output_type": "stream",
     "text": [
      "rgb_array\n",
      "1000\n"
     ]
    }
   ],
   "source": [
    "import imageio\n",
    "images_trainer = []\n",
    "obs = env.reset()\n",
    "print(env.render_mode)\n",
    "done = False\n",
    "img = env.render()\n",
    "while not done:\n",
    "    images_trainer.append(img)\n",
    "    action, _ = dagger_trainer.policy.predict(obs)\n",
    "    obs, reward, done, info = env.step(action)\n",
    "    img = env.render()\n",
    "    \n",
    "print(len(images_trainer))"
   ]
  },
  {
   "cell_type": "code",
   "execution_count": 19,
   "id": "34ce1a83-b29c-4b22-9bc8-7bc94527cc1b",
   "metadata": {},
   "outputs": [],
   "source": [
    "from datetime import datetime\n",
    "imageio.mimsave(f'src/videos/dagger_trainer_{datetime.now().strftime(\"%d_%m_%Y_%H_%M\")}.gif', images_trainer)"
   ]
  },
  {
   "cell_type": "code",
   "execution_count": null,
   "id": "b700e676-f706-40a4-88b8-2879e91dacb0",
   "metadata": {},
   "outputs": [],
   "source": []
  }
 ],
 "metadata": {
  "kernelspec": {
   "display_name": "Python 3 (ipykernel)",
   "language": "python",
   "name": "python3"
  },
  "language_info": {
   "codemirror_mode": {
    "name": "ipython",
    "version": 3
   },
   "file_extension": ".py",
   "mimetype": "text/x-python",
   "name": "python",
   "nbconvert_exporter": "python",
   "pygments_lexer": "ipython3",
   "version": "3.10.14"
  }
 },
 "nbformat": 4,
 "nbformat_minor": 5
}
